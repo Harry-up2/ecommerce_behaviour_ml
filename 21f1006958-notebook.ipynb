{
 "cells": [
  {
   "cell_type": "code",
   "execution_count": 1,
   "id": "d2876167",
   "metadata": {
    "_cell_guid": "b1076dfc-b9ad-4769-8c92-a6c4dae69d19",
    "_uuid": "8f2839f25d086af736a60e9eeb907d3b93b6e0e5",
    "execution": {
     "iopub.execute_input": "2023-04-03T18:33:30.247681Z",
     "iopub.status.busy": "2023-04-03T18:33:30.246347Z",
     "iopub.status.idle": "2023-04-03T18:33:30.260495Z",
     "shell.execute_reply": "2023-04-03T18:33:30.259320Z"
    },
    "papermill": {
     "duration": 0.031173,
     "end_time": "2023-04-03T18:33:30.262957",
     "exception": false,
     "start_time": "2023-04-03T18:33:30.231784",
     "status": "completed"
    },
    "tags": []
   },
   "outputs": [
    {
     "name": "stdout",
     "output_type": "stream",
     "text": [
      "/kaggle/input/e-commerce-shoppers-behaviour-understanding/test_data_v2.csv\n",
      "/kaggle/input/e-commerce-shoppers-behaviour-understanding/train_data_v2.csv\n",
      "/kaggle/input/e-commerce-shoppers-behaviour-understanding/sample.csv\n"
     ]
    }
   ],
   "source": [
    "# This Python 3 environment comes with many helpful analytics libraries installed\n",
    "# It is defined by the kaggle/python Docker image: https://github.com/kaggle/docker-python\n",
    "# For example, here's several helpful packages to load\n",
    "\n",
    "import numpy as np # linear algebra\n",
    "import pandas as pd # data processing, CSV file I/O (e.g. pd.read_csv)\n",
    "\n",
    "# Input data files are available in the read-only \"../input/\" directory\n",
    "# For example, running this (by clicking run or pressing Shift+Enter) will list all files under the input directory\n",
    "\n",
    "import os\n",
    "for dirname, _, filenames in os.walk('/kaggle/input'):\n",
    "    for filename in filenames:\n",
    "        print(os.path.join(dirname, filename))\n",
    "\n",
    "# You can write up to 20GB to the current directory (/kaggle/working/) that gets preserved as output when you create a version using \"Save & Run All\" \n",
    "# You can also write temporary files to /kaggle/temp/, but they won't be saved outside of the current session"
   ]
  },
  {
   "cell_type": "markdown",
   "id": "26d35c3b",
   "metadata": {
    "papermill": {
     "duration": 0.012851,
     "end_time": "2023-04-03T18:33:30.287625",
     "exception": false,
     "start_time": "2023-04-03T18:33:30.274774",
     "status": "completed"
    },
    "tags": []
   },
   "source": [
    "# Data Loading"
   ]
  },
  {
   "cell_type": "code",
   "execution_count": 2,
   "id": "ffe08127",
   "metadata": {
    "execution": {
     "iopub.execute_input": "2023-04-03T18:33:30.312334Z",
     "iopub.status.busy": "2023-04-03T18:33:30.311608Z",
     "iopub.status.idle": "2023-04-03T18:33:31.397220Z",
     "shell.execute_reply": "2023-04-03T18:33:31.396108Z"
    },
    "papermill": {
     "duration": 1.100723,
     "end_time": "2023-04-03T18:33:31.399639",
     "exception": false,
     "start_time": "2023-04-03T18:33:30.298916",
     "status": "completed"
    },
    "tags": []
   },
   "outputs": [],
   "source": [
    "from sklearn.dummy import DummyClassifier\n",
    "train = pd.read_csv(\"/kaggle/input/e-commerce-shoppers-behaviour-understanding/train_data_v2.csv\")\n",
    "test = pd.read_csv(\"/kaggle/input/e-commerce-shoppers-behaviour-understanding/test_data_v2.csv\")\n",
    "sample_submission = pd.read_csv(\"/kaggle/input/e-commerce-shoppers-behaviour-understanding/sample.csv\")"
   ]
  },
  {
   "cell_type": "code",
   "execution_count": 3,
   "id": "3f6d6c09",
   "metadata": {
    "execution": {
     "iopub.execute_input": "2023-04-03T18:33:31.425357Z",
     "iopub.status.busy": "2023-04-03T18:33:31.424767Z",
     "iopub.status.idle": "2023-04-03T18:33:31.440447Z",
     "shell.execute_reply": "2023-04-03T18:33:31.439395Z"
    },
    "papermill": {
     "duration": 0.031418,
     "end_time": "2023-04-03T18:33:31.442877",
     "exception": false,
     "start_time": "2023-04-03T18:33:31.411459",
     "status": "completed"
    },
    "tags": []
   },
   "outputs": [],
   "source": [
    "X = train.drop(\"Made_Purchase\",axis=1)\n",
    "y= train[\"Made_Purchase\"]"
   ]
  },
  {
   "cell_type": "code",
   "execution_count": 4,
   "id": "010e7184",
   "metadata": {
    "execution": {
     "iopub.execute_input": "2023-04-03T18:33:31.468916Z",
     "iopub.status.busy": "2023-04-03T18:33:31.468171Z",
     "iopub.status.idle": "2023-04-03T18:33:31.503881Z",
     "shell.execute_reply": "2023-04-03T18:33:31.502621Z"
    },
    "papermill": {
     "duration": 0.051026,
     "end_time": "2023-04-03T18:33:31.506183",
     "exception": false,
     "start_time": "2023-04-03T18:33:31.455157",
     "status": "completed"
    },
    "tags": []
   },
   "outputs": [
    {
     "data": {
      "text/html": [
       "<div>\n",
       "<style scoped>\n",
       "    .dataframe tbody tr th:only-of-type {\n",
       "        vertical-align: middle;\n",
       "    }\n",
       "\n",
       "    .dataframe tbody tr th {\n",
       "        vertical-align: top;\n",
       "    }\n",
       "\n",
       "    .dataframe thead th {\n",
       "        text-align: right;\n",
       "    }\n",
       "</style>\n",
       "<table border=\"1\" class=\"dataframe\">\n",
       "  <thead>\n",
       "    <tr style=\"text-align: right;\">\n",
       "      <th></th>\n",
       "      <th>HomePage</th>\n",
       "      <th>HomePage_Duration</th>\n",
       "      <th>LandingPage</th>\n",
       "      <th>LandingPage_Duration</th>\n",
       "      <th>ProductDescriptionPage</th>\n",
       "      <th>ProductDescriptionPage_Duration</th>\n",
       "      <th>GoogleMetric:Bounce Rates</th>\n",
       "      <th>GoogleMetric:Exit Rates</th>\n",
       "      <th>GoogleMetric:Page Values</th>\n",
       "      <th>SeasonalPurchase</th>\n",
       "      <th>...</th>\n",
       "      <th>OS</th>\n",
       "      <th>SearchEngine</th>\n",
       "      <th>Zone</th>\n",
       "      <th>Type of Traffic</th>\n",
       "      <th>CustomerType</th>\n",
       "      <th>Gender</th>\n",
       "      <th>Cookies Setting</th>\n",
       "      <th>Education</th>\n",
       "      <th>Marital Status</th>\n",
       "      <th>WeekendPurchase</th>\n",
       "    </tr>\n",
       "  </thead>\n",
       "  <tbody>\n",
       "    <tr>\n",
       "      <th>0</th>\n",
       "      <td>0.0</td>\n",
       "      <td>0.0</td>\n",
       "      <td>0.0</td>\n",
       "      <td>0.0</td>\n",
       "      <td>1.0</td>\n",
       "      <td>0.000000</td>\n",
       "      <td>0.20</td>\n",
       "      <td>0.20</td>\n",
       "      <td>0.0</td>\n",
       "      <td>0.0</td>\n",
       "      <td>...</td>\n",
       "      <td>4.0</td>\n",
       "      <td>1.0</td>\n",
       "      <td>9.0</td>\n",
       "      <td>3.0</td>\n",
       "      <td>Returning_Visitor</td>\n",
       "      <td>Not Specified</td>\n",
       "      <td>Deny</td>\n",
       "      <td>Not Specified</td>\n",
       "      <td>Other</td>\n",
       "      <td>0.0</td>\n",
       "    </tr>\n",
       "    <tr>\n",
       "      <th>1</th>\n",
       "      <td>0.0</td>\n",
       "      <td>0.0</td>\n",
       "      <td>0.0</td>\n",
       "      <td>0.0</td>\n",
       "      <td>2.0</td>\n",
       "      <td>2.666667</td>\n",
       "      <td>0.05</td>\n",
       "      <td>0.14</td>\n",
       "      <td>0.0</td>\n",
       "      <td>0.0</td>\n",
       "      <td>...</td>\n",
       "      <td>3.0</td>\n",
       "      <td>2.0</td>\n",
       "      <td>2.0</td>\n",
       "      <td>4.0</td>\n",
       "      <td>Returning_Visitor</td>\n",
       "      <td>Female</td>\n",
       "      <td>Deny</td>\n",
       "      <td>Others</td>\n",
       "      <td>Married</td>\n",
       "      <td>0.0</td>\n",
       "    </tr>\n",
       "    <tr>\n",
       "      <th>2</th>\n",
       "      <td>0.0</td>\n",
       "      <td>0.0</td>\n",
       "      <td>0.0</td>\n",
       "      <td>0.0</td>\n",
       "      <td>10.0</td>\n",
       "      <td>627.500000</td>\n",
       "      <td>0.02</td>\n",
       "      <td>0.05</td>\n",
       "      <td>0.0</td>\n",
       "      <td>0.0</td>\n",
       "      <td>...</td>\n",
       "      <td>3.0</td>\n",
       "      <td>3.0</td>\n",
       "      <td>1.0</td>\n",
       "      <td>4.0</td>\n",
       "      <td>Returning_Visitor</td>\n",
       "      <td>Female</td>\n",
       "      <td>ALL</td>\n",
       "      <td>Others</td>\n",
       "      <td>Married</td>\n",
       "      <td>1.0</td>\n",
       "    </tr>\n",
       "    <tr>\n",
       "      <th>3</th>\n",
       "      <td>0.0</td>\n",
       "      <td>0.0</td>\n",
       "      <td>0.0</td>\n",
       "      <td>0.0</td>\n",
       "      <td>1.0</td>\n",
       "      <td>0.000000</td>\n",
       "      <td>0.20</td>\n",
       "      <td>0.20</td>\n",
       "      <td>0.0</td>\n",
       "      <td>0.4</td>\n",
       "      <td>...</td>\n",
       "      <td>2.0</td>\n",
       "      <td>4.0</td>\n",
       "      <td>3.0</td>\n",
       "      <td>3.0</td>\n",
       "      <td>Returning_Visitor</td>\n",
       "      <td>Male</td>\n",
       "      <td>ALL</td>\n",
       "      <td>Diploma</td>\n",
       "      <td>Single</td>\n",
       "      <td>0.0</td>\n",
       "    </tr>\n",
       "    <tr>\n",
       "      <th>4</th>\n",
       "      <td>1.0</td>\n",
       "      <td>0.0</td>\n",
       "      <td>0.0</td>\n",
       "      <td>0.0</td>\n",
       "      <td>0.0</td>\n",
       "      <td>0.000000</td>\n",
       "      <td>0.20</td>\n",
       "      <td>0.20</td>\n",
       "      <td>0.0</td>\n",
       "      <td>0.0</td>\n",
       "      <td>...</td>\n",
       "      <td>1.0</td>\n",
       "      <td>2.0</td>\n",
       "      <td>1.0</td>\n",
       "      <td>5.0</td>\n",
       "      <td>Returning_Visitor</td>\n",
       "      <td>Male</td>\n",
       "      <td>Deny</td>\n",
       "      <td>Diploma</td>\n",
       "      <td>Other</td>\n",
       "      <td>1.0</td>\n",
       "    </tr>\n",
       "  </tbody>\n",
       "</table>\n",
       "<p>5 rows × 21 columns</p>\n",
       "</div>"
      ],
      "text/plain": [
       "   HomePage  HomePage_Duration  LandingPage  LandingPage_Duration  \\\n",
       "0       0.0                0.0          0.0                   0.0   \n",
       "1       0.0                0.0          0.0                   0.0   \n",
       "2       0.0                0.0          0.0                   0.0   \n",
       "3       0.0                0.0          0.0                   0.0   \n",
       "4       1.0                0.0          0.0                   0.0   \n",
       "\n",
       "   ProductDescriptionPage  ProductDescriptionPage_Duration  \\\n",
       "0                     1.0                         0.000000   \n",
       "1                     2.0                         2.666667   \n",
       "2                    10.0                       627.500000   \n",
       "3                     1.0                         0.000000   \n",
       "4                     0.0                         0.000000   \n",
       "\n",
       "   GoogleMetric:Bounce Rates  GoogleMetric:Exit Rates  \\\n",
       "0                       0.20                     0.20   \n",
       "1                       0.05                     0.14   \n",
       "2                       0.02                     0.05   \n",
       "3                       0.20                     0.20   \n",
       "4                       0.20                     0.20   \n",
       "\n",
       "   GoogleMetric:Page Values  SeasonalPurchase  ...   OS  SearchEngine  Zone  \\\n",
       "0                       0.0               0.0  ...  4.0           1.0   9.0   \n",
       "1                       0.0               0.0  ...  3.0           2.0   2.0   \n",
       "2                       0.0               0.0  ...  3.0           3.0   1.0   \n",
       "3                       0.0               0.4  ...  2.0           4.0   3.0   \n",
       "4                       0.0               0.0  ...  1.0           2.0   1.0   \n",
       "\n",
       "   Type of Traffic       CustomerType         Gender Cookies Setting  \\\n",
       "0              3.0  Returning_Visitor  Not Specified            Deny   \n",
       "1              4.0  Returning_Visitor         Female            Deny   \n",
       "2              4.0  Returning_Visitor         Female             ALL   \n",
       "3              3.0  Returning_Visitor           Male             ALL   \n",
       "4              5.0  Returning_Visitor           Male            Deny   \n",
       "\n",
       "       Education Marital Status WeekendPurchase  \n",
       "0  Not Specified          Other             0.0  \n",
       "1         Others        Married             0.0  \n",
       "2         Others        Married             1.0  \n",
       "3        Diploma         Single             0.0  \n",
       "4        Diploma          Other             1.0  \n",
       "\n",
       "[5 rows x 21 columns]"
      ]
     },
     "execution_count": 4,
     "metadata": {},
     "output_type": "execute_result"
    }
   ],
   "source": [
    "X.head()"
   ]
  },
  {
   "cell_type": "code",
   "execution_count": 5,
   "id": "89cafd89",
   "metadata": {
    "execution": {
     "iopub.execute_input": "2023-04-03T18:33:31.531406Z",
     "iopub.status.busy": "2023-04-03T18:33:31.531038Z",
     "iopub.status.idle": "2023-04-03T18:33:31.600976Z",
     "shell.execute_reply": "2023-04-03T18:33:31.599749Z"
    },
    "papermill": {
     "duration": 0.085202,
     "end_time": "2023-04-03T18:33:31.603364",
     "exception": false,
     "start_time": "2023-04-03T18:33:31.518162",
     "status": "completed"
    },
    "tags": []
   },
   "outputs": [
    {
     "data": {
      "text/html": [
       "<div>\n",
       "<style scoped>\n",
       "    .dataframe tbody tr th:only-of-type {\n",
       "        vertical-align: middle;\n",
       "    }\n",
       "\n",
       "    .dataframe tbody tr th {\n",
       "        vertical-align: top;\n",
       "    }\n",
       "\n",
       "    .dataframe thead th {\n",
       "        text-align: right;\n",
       "    }\n",
       "</style>\n",
       "<table border=\"1\" class=\"dataframe\">\n",
       "  <thead>\n",
       "    <tr style=\"text-align: right;\">\n",
       "      <th></th>\n",
       "      <th>HomePage</th>\n",
       "      <th>HomePage_Duration</th>\n",
       "      <th>LandingPage</th>\n",
       "      <th>LandingPage_Duration</th>\n",
       "      <th>ProductDescriptionPage</th>\n",
       "      <th>ProductDescriptionPage_Duration</th>\n",
       "      <th>GoogleMetric:Bounce Rates</th>\n",
       "      <th>GoogleMetric:Exit Rates</th>\n",
       "      <th>GoogleMetric:Page Values</th>\n",
       "      <th>SeasonalPurchase</th>\n",
       "      <th>OS</th>\n",
       "      <th>SearchEngine</th>\n",
       "      <th>Zone</th>\n",
       "      <th>Type of Traffic</th>\n",
       "      <th>WeekendPurchase</th>\n",
       "    </tr>\n",
       "  </thead>\n",
       "  <tbody>\n",
       "    <tr>\n",
       "      <th>count</th>\n",
       "      <td>14578.000000</td>\n",
       "      <td>14581.000000</td>\n",
       "      <td>14578.000000</td>\n",
       "      <td>14596.000000</td>\n",
       "      <td>14608.000000</td>\n",
       "      <td>14564.000000</td>\n",
       "      <td>14580.000000</td>\n",
       "      <td>14602.000000</td>\n",
       "      <td>14599.000000</td>\n",
       "      <td>14581.000000</td>\n",
       "      <td>14597.000000</td>\n",
       "      <td>14609.000000</td>\n",
       "      <td>14614.000000</td>\n",
       "      <td>14588.000000</td>\n",
       "      <td>14610.000000</td>\n",
       "    </tr>\n",
       "    <tr>\n",
       "      <th>mean</th>\n",
       "      <td>2.250240</td>\n",
       "      <td>79.300762</td>\n",
       "      <td>0.490739</td>\n",
       "      <td>33.455943</td>\n",
       "      <td>31.559488</td>\n",
       "      <td>1184.346084</td>\n",
       "      <td>0.023366</td>\n",
       "      <td>0.044664</td>\n",
       "      <td>4.812620</td>\n",
       "      <td>0.064083</td>\n",
       "      <td>2.122422</td>\n",
       "      <td>2.356629</td>\n",
       "      <td>3.155673</td>\n",
       "      <td>4.090143</td>\n",
       "      <td>0.234155</td>\n",
       "    </tr>\n",
       "    <tr>\n",
       "      <th>std</th>\n",
       "      <td>3.288042</td>\n",
       "      <td>179.374699</td>\n",
       "      <td>1.252376</td>\n",
       "      <td>140.146256</td>\n",
       "      <td>44.897089</td>\n",
       "      <td>2009.496307</td>\n",
       "      <td>0.050011</td>\n",
       "      <td>0.049912</td>\n",
       "      <td>16.887366</td>\n",
       "      <td>0.202583</td>\n",
       "      <td>0.914404</td>\n",
       "      <td>1.721823</td>\n",
       "      <td>2.405155</td>\n",
       "      <td>4.040147</td>\n",
       "      <td>0.423484</td>\n",
       "    </tr>\n",
       "    <tr>\n",
       "      <th>min</th>\n",
       "      <td>0.000000</td>\n",
       "      <td>0.000000</td>\n",
       "      <td>0.000000</td>\n",
       "      <td>0.000000</td>\n",
       "      <td>0.000000</td>\n",
       "      <td>0.000000</td>\n",
       "      <td>0.000000</td>\n",
       "      <td>0.000000</td>\n",
       "      <td>0.000000</td>\n",
       "      <td>0.000000</td>\n",
       "      <td>1.000000</td>\n",
       "      <td>1.000000</td>\n",
       "      <td>1.000000</td>\n",
       "      <td>1.000000</td>\n",
       "      <td>0.000000</td>\n",
       "    </tr>\n",
       "    <tr>\n",
       "      <th>25%</th>\n",
       "      <td>0.000000</td>\n",
       "      <td>0.000000</td>\n",
       "      <td>0.000000</td>\n",
       "      <td>0.000000</td>\n",
       "      <td>7.000000</td>\n",
       "      <td>173.187500</td>\n",
       "      <td>0.000000</td>\n",
       "      <td>0.014502</td>\n",
       "      <td>0.000000</td>\n",
       "      <td>0.000000</td>\n",
       "      <td>2.000000</td>\n",
       "      <td>2.000000</td>\n",
       "      <td>1.000000</td>\n",
       "      <td>2.000000</td>\n",
       "      <td>0.000000</td>\n",
       "    </tr>\n",
       "    <tr>\n",
       "      <th>50%</th>\n",
       "      <td>1.000000</td>\n",
       "      <td>5.000000</td>\n",
       "      <td>0.000000</td>\n",
       "      <td>0.000000</td>\n",
       "      <td>17.500000</td>\n",
       "      <td>584.333333</td>\n",
       "      <td>0.003478</td>\n",
       "      <td>0.026406</td>\n",
       "      <td>0.000000</td>\n",
       "      <td>0.000000</td>\n",
       "      <td>2.000000</td>\n",
       "      <td>2.000000</td>\n",
       "      <td>3.000000</td>\n",
       "      <td>2.000000</td>\n",
       "      <td>0.000000</td>\n",
       "    </tr>\n",
       "    <tr>\n",
       "      <th>75%</th>\n",
       "      <td>3.000000</td>\n",
       "      <td>91.000000</td>\n",
       "      <td>0.000000</td>\n",
       "      <td>0.000000</td>\n",
       "      <td>38.000000</td>\n",
       "      <td>1434.255128</td>\n",
       "      <td>0.018182</td>\n",
       "      <td>0.050000</td>\n",
       "      <td>0.000000</td>\n",
       "      <td>0.000000</td>\n",
       "      <td>3.000000</td>\n",
       "      <td>2.000000</td>\n",
       "      <td>4.000000</td>\n",
       "      <td>4.000000</td>\n",
       "      <td>0.000000</td>\n",
       "    </tr>\n",
       "    <tr>\n",
       "      <th>max</th>\n",
       "      <td>27.000000</td>\n",
       "      <td>3398.750000</td>\n",
       "      <td>24.000000</td>\n",
       "      <td>2549.375000</td>\n",
       "      <td>705.000000</td>\n",
       "      <td>63973.522230</td>\n",
       "      <td>0.200000</td>\n",
       "      <td>0.200000</td>\n",
       "      <td>361.763742</td>\n",
       "      <td>1.000000</td>\n",
       "      <td>8.000000</td>\n",
       "      <td>13.000000</td>\n",
       "      <td>9.000000</td>\n",
       "      <td>20.000000</td>\n",
       "      <td>1.000000</td>\n",
       "    </tr>\n",
       "  </tbody>\n",
       "</table>\n",
       "</div>"
      ],
      "text/plain": [
       "           HomePage  HomePage_Duration   LandingPage  LandingPage_Duration  \\\n",
       "count  14578.000000       14581.000000  14578.000000          14596.000000   \n",
       "mean       2.250240          79.300762      0.490739             33.455943   \n",
       "std        3.288042         179.374699      1.252376            140.146256   \n",
       "min        0.000000           0.000000      0.000000              0.000000   \n",
       "25%        0.000000           0.000000      0.000000              0.000000   \n",
       "50%        1.000000           5.000000      0.000000              0.000000   \n",
       "75%        3.000000          91.000000      0.000000              0.000000   \n",
       "max       27.000000        3398.750000     24.000000           2549.375000   \n",
       "\n",
       "       ProductDescriptionPage  ProductDescriptionPage_Duration  \\\n",
       "count            14608.000000                     14564.000000   \n",
       "mean                31.559488                      1184.346084   \n",
       "std                 44.897089                      2009.496307   \n",
       "min                  0.000000                         0.000000   \n",
       "25%                  7.000000                       173.187500   \n",
       "50%                 17.500000                       584.333333   \n",
       "75%                 38.000000                      1434.255128   \n",
       "max                705.000000                     63973.522230   \n",
       "\n",
       "       GoogleMetric:Bounce Rates  GoogleMetric:Exit Rates  \\\n",
       "count               14580.000000             14602.000000   \n",
       "mean                    0.023366                 0.044664   \n",
       "std                     0.050011                 0.049912   \n",
       "min                     0.000000                 0.000000   \n",
       "25%                     0.000000                 0.014502   \n",
       "50%                     0.003478                 0.026406   \n",
       "75%                     0.018182                 0.050000   \n",
       "max                     0.200000                 0.200000   \n",
       "\n",
       "       GoogleMetric:Page Values  SeasonalPurchase            OS  SearchEngine  \\\n",
       "count              14599.000000      14581.000000  14597.000000  14609.000000   \n",
       "mean                   4.812620          0.064083      2.122422      2.356629   \n",
       "std                   16.887366          0.202583      0.914404      1.721823   \n",
       "min                    0.000000          0.000000      1.000000      1.000000   \n",
       "25%                    0.000000          0.000000      2.000000      2.000000   \n",
       "50%                    0.000000          0.000000      2.000000      2.000000   \n",
       "75%                    0.000000          0.000000      3.000000      2.000000   \n",
       "max                  361.763742          1.000000      8.000000     13.000000   \n",
       "\n",
       "               Zone  Type of Traffic  WeekendPurchase  \n",
       "count  14614.000000     14588.000000     14610.000000  \n",
       "mean       3.155673         4.090143         0.234155  \n",
       "std        2.405155         4.040147         0.423484  \n",
       "min        1.000000         1.000000         0.000000  \n",
       "25%        1.000000         2.000000         0.000000  \n",
       "50%        3.000000         2.000000         0.000000  \n",
       "75%        4.000000         4.000000         0.000000  \n",
       "max        9.000000        20.000000         1.000000  "
      ]
     },
     "execution_count": 5,
     "metadata": {},
     "output_type": "execute_result"
    }
   ],
   "source": [
    "X.describe()"
   ]
  },
  {
   "cell_type": "markdown",
   "id": "f09c546f",
   "metadata": {
    "papermill": {
     "duration": 0.011729,
     "end_time": "2023-04-03T18:33:31.627266",
     "exception": false,
     "start_time": "2023-04-03T18:33:31.615537",
     "status": "completed"
    },
    "tags": []
   },
   "source": [
    "*Dummy Classifier Submission*"
   ]
  },
  {
   "cell_type": "code",
   "execution_count": 6,
   "id": "1e2b1e11",
   "metadata": {
    "execution": {
     "iopub.execute_input": "2023-04-03T18:33:31.653110Z",
     "iopub.status.busy": "2023-04-03T18:33:31.652687Z",
     "iopub.status.idle": "2023-04-03T18:33:31.657062Z",
     "shell.execute_reply": "2023-04-03T18:33:31.656128Z"
    },
    "papermill": {
     "duration": 0.01967,
     "end_time": "2023-04-03T18:33:31.659028",
     "exception": false,
     "start_time": "2023-04-03T18:33:31.639358",
     "status": "completed"
    },
    "tags": []
   },
   "outputs": [],
   "source": [
    "#clf=DummyClassifier()\n",
    "#clf.fit(X,y)\n",
    "#dpred=clf.predict(test)\n",
    "#np.unique(dpred, return_counts=True)"
   ]
  },
  {
   "cell_type": "markdown",
   "id": "7cdf9698",
   "metadata": {
    "papermill": {
     "duration": 0.011865,
     "end_time": "2023-04-03T18:33:31.682910",
     "exception": false,
     "start_time": "2023-04-03T18:33:31.671045",
     "status": "completed"
    },
    "tags": []
   },
   "source": [
    "# Preprocessing and Cleaning"
   ]
  },
  {
   "cell_type": "markdown",
   "id": "5d78be12",
   "metadata": {
    "papermill": {
     "duration": 0.01186,
     "end_time": "2023-04-03T18:33:31.707034",
     "exception": false,
     "start_time": "2023-04-03T18:33:31.695174",
     "status": "completed"
    },
    "tags": []
   },
   "source": [
    "> **Feature Handling**"
   ]
  },
  {
   "cell_type": "code",
   "execution_count": 7,
   "id": "12d88997",
   "metadata": {
    "execution": {
     "iopub.execute_input": "2023-04-03T18:33:31.733088Z",
     "iopub.status.busy": "2023-04-03T18:33:31.732630Z",
     "iopub.status.idle": "2023-04-03T18:33:31.737169Z",
     "shell.execute_reply": "2023-04-03T18:33:31.736190Z"
    },
    "papermill": {
     "duration": 0.02015,
     "end_time": "2023-04-03T18:33:31.739234",
     "exception": false,
     "start_time": "2023-04-03T18:33:31.719084",
     "status": "completed"
    },
    "tags": []
   },
   "outputs": [],
   "source": [
    "# strange_var=['OS','SearchEngine','Zone','Type of Traffic']\n",
    "# X=X.drop(labels=strange_var,axis=1)\n",
    "# test=test.drop(labels=strange_var,axis=1)"
   ]
  },
  {
   "cell_type": "code",
   "execution_count": 8,
   "id": "2bddf92b",
   "metadata": {
    "execution": {
     "iopub.execute_input": "2023-04-03T18:33:31.765571Z",
     "iopub.status.busy": "2023-04-03T18:33:31.764891Z",
     "iopub.status.idle": "2023-04-03T18:33:31.768739Z",
     "shell.execute_reply": "2023-04-03T18:33:31.767931Z"
    },
    "papermill": {
     "duration": 0.019353,
     "end_time": "2023-04-03T18:33:31.770696",
     "exception": false,
     "start_time": "2023-04-03T18:33:31.751343",
     "status": "completed"
    },
    "tags": []
   },
   "outputs": [],
   "source": [
    "# strange_var=['OS','SearchEngine','Zone','Type of Traffic']\n",
    "# X[strange_var]=X[strange_var].astype('category')\n",
    "# test[strange_var]=test[strange_var].astype('category')"
   ]
  },
  {
   "cell_type": "markdown",
   "id": "7345b4a6",
   "metadata": {
    "papermill": {
     "duration": 0.011653,
     "end_time": "2023-04-03T18:33:31.794390",
     "exception": false,
     "start_time": "2023-04-03T18:33:31.782737",
     "status": "completed"
    },
    "tags": []
   },
   "source": [
    "> **Imputation**"
   ]
  },
  {
   "cell_type": "code",
   "execution_count": 9,
   "id": "37cdfa9c",
   "metadata": {
    "execution": {
     "iopub.execute_input": "2023-04-03T18:33:31.820699Z",
     "iopub.status.busy": "2023-04-03T18:33:31.819958Z",
     "iopub.status.idle": "2023-04-03T18:33:31.996072Z",
     "shell.execute_reply": "2023-04-03T18:33:31.994984Z"
    },
    "papermill": {
     "duration": 0.192195,
     "end_time": "2023-04-03T18:33:31.998594",
     "exception": false,
     "start_time": "2023-04-03T18:33:31.806399",
     "status": "completed"
    },
    "tags": []
   },
   "outputs": [],
   "source": [
    "from sklearn.impute import SimpleImputer\n",
    "\n",
    "\n",
    "si=SimpleImputer(strategy='median')\n",
    "si2=SimpleImputer(strategy='most_frequent')\n",
    "num_var=['HomePage','HomePage_Duration','LandingPage','LandingPage_Duration','ProductDescriptionPage','ProductDescriptionPage_Duration',\n",
    "         'GoogleMetric:Bounce Rates','GoogleMetric:Exit Rates','GoogleMetric:Page Values','SeasonalPurchase',\n",
    "         'WeekendPurchase','OS','SearchEngine','Zone','Type of Traffic']\n",
    "cat_var=['Month_SeasonalPurchase','CustomerType','Gender','Cookies Setting','Education','Marital Status']\n",
    "\n",
    "\n",
    "\n",
    "\n"
   ]
  },
  {
   "cell_type": "code",
   "execution_count": 10,
   "id": "1bc5082b",
   "metadata": {
    "execution": {
     "iopub.execute_input": "2023-04-03T18:33:32.024005Z",
     "iopub.status.busy": "2023-04-03T18:33:32.023588Z",
     "iopub.status.idle": "2023-04-03T18:33:32.090920Z",
     "shell.execute_reply": "2023-04-03T18:33:32.089768Z"
    },
    "papermill": {
     "duration": 0.082885,
     "end_time": "2023-04-03T18:33:32.093686",
     "exception": false,
     "start_time": "2023-04-03T18:33:32.010801",
     "status": "completed"
    },
    "tags": []
   },
   "outputs": [],
   "source": [
    "X[num_var]=si.fit_transform(X[num_var])\n",
    "X[cat_var]=si2.fit_transform(X[cat_var])\n",
    "test[num_var]=si.transform(test[num_var])\n",
    "test[cat_var]=si2.transform(test[cat_var])\n",
    "\n",
    "# #X=X.drop(labels=cat_var,axis=1)\n",
    "# #test=test.drop(labels=cat_var,axis=1)\n",
    "\n",
    "# #from sklearn import svm\n",
    "# #svc = svm.SVC(kernel='linear')\n",
    "# # model=xgb.XGBClassifier(objective=\"binary:logistic\")\n"
   ]
  },
  {
   "cell_type": "markdown",
   "id": "6da9d3ac",
   "metadata": {
    "papermill": {
     "duration": 0.011664,
     "end_time": "2023-04-03T18:33:32.117746",
     "exception": false,
     "start_time": "2023-04-03T18:33:32.106082",
     "status": "completed"
    },
    "tags": []
   },
   "source": [
    "> **Categorical Transformation**"
   ]
  },
  {
   "cell_type": "code",
   "execution_count": 11,
   "id": "b9b0f368",
   "metadata": {
    "execution": {
     "iopub.execute_input": "2023-04-03T18:33:32.143175Z",
     "iopub.status.busy": "2023-04-03T18:33:32.142750Z",
     "iopub.status.idle": "2023-04-03T18:33:32.177101Z",
     "shell.execute_reply": "2023-04-03T18:33:32.175874Z"
    },
    "papermill": {
     "duration": 0.050251,
     "end_time": "2023-04-03T18:33:32.179820",
     "exception": false,
     "start_time": "2023-04-03T18:33:32.129569",
     "status": "completed"
    },
    "tags": []
   },
   "outputs": [],
   "source": [
    "X=pd.get_dummies(X,columns=cat_var)\n",
    "test=pd.get_dummies(test,columns=cat_var)"
   ]
  },
  {
   "cell_type": "code",
   "execution_count": 12,
   "id": "44f8abf7",
   "metadata": {
    "execution": {
     "iopub.execute_input": "2023-04-03T18:33:32.205942Z",
     "iopub.status.busy": "2023-04-03T18:33:32.205537Z",
     "iopub.status.idle": "2023-04-03T18:33:32.329876Z",
     "shell.execute_reply": "2023-04-03T18:33:32.329013Z"
    },
    "papermill": {
     "duration": 0.140191,
     "end_time": "2023-04-03T18:33:32.332262",
     "exception": false,
     "start_time": "2023-04-03T18:33:32.192071",
     "status": "completed"
    },
    "tags": []
   },
   "outputs": [
    {
     "data": {
      "text/html": [
       "<div>\n",
       "<style scoped>\n",
       "    .dataframe tbody tr th:only-of-type {\n",
       "        vertical-align: middle;\n",
       "    }\n",
       "\n",
       "    .dataframe tbody tr th {\n",
       "        vertical-align: top;\n",
       "    }\n",
       "\n",
       "    .dataframe thead th {\n",
       "        text-align: right;\n",
       "    }\n",
       "</style>\n",
       "<table border=\"1\" class=\"dataframe\">\n",
       "  <thead>\n",
       "    <tr style=\"text-align: right;\">\n",
       "      <th></th>\n",
       "      <th>HomePage</th>\n",
       "      <th>HomePage_Duration</th>\n",
       "      <th>LandingPage</th>\n",
       "      <th>LandingPage_Duration</th>\n",
       "      <th>ProductDescriptionPage</th>\n",
       "      <th>ProductDescriptionPage_Duration</th>\n",
       "      <th>GoogleMetric:Bounce Rates</th>\n",
       "      <th>GoogleMetric:Exit Rates</th>\n",
       "      <th>GoogleMetric:Page Values</th>\n",
       "      <th>SeasonalPurchase</th>\n",
       "      <th>...</th>\n",
       "      <th>Cookies Setting_ALL</th>\n",
       "      <th>Cookies Setting_Deny</th>\n",
       "      <th>Cookies Setting_Required</th>\n",
       "      <th>Education_Diploma</th>\n",
       "      <th>Education_Graduate</th>\n",
       "      <th>Education_Not Specified</th>\n",
       "      <th>Education_Others</th>\n",
       "      <th>Marital Status_Married</th>\n",
       "      <th>Marital Status_Other</th>\n",
       "      <th>Marital Status_Single</th>\n",
       "    </tr>\n",
       "  </thead>\n",
       "  <tbody>\n",
       "    <tr>\n",
       "      <th>count</th>\n",
       "      <td>14731.000000</td>\n",
       "      <td>14731.000000</td>\n",
       "      <td>14731.000000</td>\n",
       "      <td>14731.000000</td>\n",
       "      <td>14731.000000</td>\n",
       "      <td>14731.000000</td>\n",
       "      <td>14731.000000</td>\n",
       "      <td>14731.000000</td>\n",
       "      <td>14731.000000</td>\n",
       "      <td>14731.000000</td>\n",
       "      <td>...</td>\n",
       "      <td>14731.000000</td>\n",
       "      <td>14731.000000</td>\n",
       "      <td>14731.000000</td>\n",
       "      <td>14731.000000</td>\n",
       "      <td>14731.00000</td>\n",
       "      <td>14731.000000</td>\n",
       "      <td>14731.000000</td>\n",
       "      <td>14731.000000</td>\n",
       "      <td>14731.000000</td>\n",
       "      <td>14731.000000</td>\n",
       "    </tr>\n",
       "    <tr>\n",
       "      <th>mean</th>\n",
       "      <td>2.237255</td>\n",
       "      <td>78.544187</td>\n",
       "      <td>0.485643</td>\n",
       "      <td>33.149341</td>\n",
       "      <td>31.442095</td>\n",
       "      <td>1177.543957</td>\n",
       "      <td>0.023162</td>\n",
       "      <td>0.044504</td>\n",
       "      <td>4.769496</td>\n",
       "      <td>0.063431</td>\n",
       "      <td>...</td>\n",
       "      <td>0.322857</td>\n",
       "      <td>0.346752</td>\n",
       "      <td>0.330392</td>\n",
       "      <td>0.247980</td>\n",
       "      <td>0.25056</td>\n",
       "      <td>0.239291</td>\n",
       "      <td>0.262168</td>\n",
       "      <td>0.321092</td>\n",
       "      <td>0.344987</td>\n",
       "      <td>0.333922</td>\n",
       "    </tr>\n",
       "    <tr>\n",
       "      <th>std</th>\n",
       "      <td>3.273376</td>\n",
       "      <td>178.614886</td>\n",
       "      <td>1.246848</td>\n",
       "      <td>139.538986</td>\n",
       "      <td>44.727546</td>\n",
       "      <td>1999.082158</td>\n",
       "      <td>0.049794</td>\n",
       "      <td>0.049722</td>\n",
       "      <td>16.817646</td>\n",
       "      <td>0.201651</td>\n",
       "      <td>...</td>\n",
       "      <td>0.467584</td>\n",
       "      <td>0.475952</td>\n",
       "      <td>0.470370</td>\n",
       "      <td>0.431855</td>\n",
       "      <td>0.43335</td>\n",
       "      <td>0.426665</td>\n",
       "      <td>0.439829</td>\n",
       "      <td>0.466912</td>\n",
       "      <td>0.475380</td>\n",
       "      <td>0.471628</td>\n",
       "    </tr>\n",
       "    <tr>\n",
       "      <th>min</th>\n",
       "      <td>0.000000</td>\n",
       "      <td>0.000000</td>\n",
       "      <td>0.000000</td>\n",
       "      <td>0.000000</td>\n",
       "      <td>0.000000</td>\n",
       "      <td>0.000000</td>\n",
       "      <td>0.000000</td>\n",
       "      <td>0.000000</td>\n",
       "      <td>0.000000</td>\n",
       "      <td>0.000000</td>\n",
       "      <td>...</td>\n",
       "      <td>0.000000</td>\n",
       "      <td>0.000000</td>\n",
       "      <td>0.000000</td>\n",
       "      <td>0.000000</td>\n",
       "      <td>0.00000</td>\n",
       "      <td>0.000000</td>\n",
       "      <td>0.000000</td>\n",
       "      <td>0.000000</td>\n",
       "      <td>0.000000</td>\n",
       "      <td>0.000000</td>\n",
       "    </tr>\n",
       "    <tr>\n",
       "      <th>25%</th>\n",
       "      <td>0.000000</td>\n",
       "      <td>0.000000</td>\n",
       "      <td>0.000000</td>\n",
       "      <td>0.000000</td>\n",
       "      <td>7.000000</td>\n",
       "      <td>178.000000</td>\n",
       "      <td>0.000000</td>\n",
       "      <td>0.014667</td>\n",
       "      <td>0.000000</td>\n",
       "      <td>0.000000</td>\n",
       "      <td>...</td>\n",
       "      <td>0.000000</td>\n",
       "      <td>0.000000</td>\n",
       "      <td>0.000000</td>\n",
       "      <td>0.000000</td>\n",
       "      <td>0.00000</td>\n",
       "      <td>0.000000</td>\n",
       "      <td>0.000000</td>\n",
       "      <td>0.000000</td>\n",
       "      <td>0.000000</td>\n",
       "      <td>0.000000</td>\n",
       "    </tr>\n",
       "    <tr>\n",
       "      <th>50%</th>\n",
       "      <td>1.000000</td>\n",
       "      <td>5.000000</td>\n",
       "      <td>0.000000</td>\n",
       "      <td>0.000000</td>\n",
       "      <td>17.500000</td>\n",
       "      <td>584.333333</td>\n",
       "      <td>0.003478</td>\n",
       "      <td>0.026406</td>\n",
       "      <td>0.000000</td>\n",
       "      <td>0.000000</td>\n",
       "      <td>...</td>\n",
       "      <td>0.000000</td>\n",
       "      <td>0.000000</td>\n",
       "      <td>0.000000</td>\n",
       "      <td>0.000000</td>\n",
       "      <td>0.00000</td>\n",
       "      <td>0.000000</td>\n",
       "      <td>0.000000</td>\n",
       "      <td>0.000000</td>\n",
       "      <td>0.000000</td>\n",
       "      <td>0.000000</td>\n",
       "    </tr>\n",
       "    <tr>\n",
       "      <th>75%</th>\n",
       "      <td>3.000000</td>\n",
       "      <td>90.000000</td>\n",
       "      <td>0.000000</td>\n",
       "      <td>0.000000</td>\n",
       "      <td>37.000000</td>\n",
       "      <td>1420.361248</td>\n",
       "      <td>0.017647</td>\n",
       "      <td>0.050000</td>\n",
       "      <td>0.000000</td>\n",
       "      <td>0.000000</td>\n",
       "      <td>...</td>\n",
       "      <td>1.000000</td>\n",
       "      <td>1.000000</td>\n",
       "      <td>1.000000</td>\n",
       "      <td>0.000000</td>\n",
       "      <td>1.00000</td>\n",
       "      <td>0.000000</td>\n",
       "      <td>1.000000</td>\n",
       "      <td>1.000000</td>\n",
       "      <td>1.000000</td>\n",
       "      <td>1.000000</td>\n",
       "    </tr>\n",
       "    <tr>\n",
       "      <th>max</th>\n",
       "      <td>27.000000</td>\n",
       "      <td>3398.750000</td>\n",
       "      <td>24.000000</td>\n",
       "      <td>2549.375000</td>\n",
       "      <td>705.000000</td>\n",
       "      <td>63973.522230</td>\n",
       "      <td>0.200000</td>\n",
       "      <td>0.200000</td>\n",
       "      <td>361.763742</td>\n",
       "      <td>1.000000</td>\n",
       "      <td>...</td>\n",
       "      <td>1.000000</td>\n",
       "      <td>1.000000</td>\n",
       "      <td>1.000000</td>\n",
       "      <td>1.000000</td>\n",
       "      <td>1.00000</td>\n",
       "      <td>1.000000</td>\n",
       "      <td>1.000000</td>\n",
       "      <td>1.000000</td>\n",
       "      <td>1.000000</td>\n",
       "      <td>1.000000</td>\n",
       "    </tr>\n",
       "  </tbody>\n",
       "</table>\n",
       "<p>8 rows × 41 columns</p>\n",
       "</div>"
      ],
      "text/plain": [
       "           HomePage  HomePage_Duration   LandingPage  LandingPage_Duration  \\\n",
       "count  14731.000000       14731.000000  14731.000000          14731.000000   \n",
       "mean       2.237255          78.544187      0.485643             33.149341   \n",
       "std        3.273376         178.614886      1.246848            139.538986   \n",
       "min        0.000000           0.000000      0.000000              0.000000   \n",
       "25%        0.000000           0.000000      0.000000              0.000000   \n",
       "50%        1.000000           5.000000      0.000000              0.000000   \n",
       "75%        3.000000          90.000000      0.000000              0.000000   \n",
       "max       27.000000        3398.750000     24.000000           2549.375000   \n",
       "\n",
       "       ProductDescriptionPage  ProductDescriptionPage_Duration  \\\n",
       "count            14731.000000                     14731.000000   \n",
       "mean                31.442095                      1177.543957   \n",
       "std                 44.727546                      1999.082158   \n",
       "min                  0.000000                         0.000000   \n",
       "25%                  7.000000                       178.000000   \n",
       "50%                 17.500000                       584.333333   \n",
       "75%                 37.000000                      1420.361248   \n",
       "max                705.000000                     63973.522230   \n",
       "\n",
       "       GoogleMetric:Bounce Rates  GoogleMetric:Exit Rates  \\\n",
       "count               14731.000000             14731.000000   \n",
       "mean                    0.023162                 0.044504   \n",
       "std                     0.049794                 0.049722   \n",
       "min                     0.000000                 0.000000   \n",
       "25%                     0.000000                 0.014667   \n",
       "50%                     0.003478                 0.026406   \n",
       "75%                     0.017647                 0.050000   \n",
       "max                     0.200000                 0.200000   \n",
       "\n",
       "       GoogleMetric:Page Values  SeasonalPurchase  ...  Cookies Setting_ALL  \\\n",
       "count              14731.000000      14731.000000  ...         14731.000000   \n",
       "mean                   4.769496          0.063431  ...             0.322857   \n",
       "std                   16.817646          0.201651  ...             0.467584   \n",
       "min                    0.000000          0.000000  ...             0.000000   \n",
       "25%                    0.000000          0.000000  ...             0.000000   \n",
       "50%                    0.000000          0.000000  ...             0.000000   \n",
       "75%                    0.000000          0.000000  ...             1.000000   \n",
       "max                  361.763742          1.000000  ...             1.000000   \n",
       "\n",
       "       Cookies Setting_Deny  Cookies Setting_Required  Education_Diploma  \\\n",
       "count          14731.000000              14731.000000       14731.000000   \n",
       "mean               0.346752                  0.330392           0.247980   \n",
       "std                0.475952                  0.470370           0.431855   \n",
       "min                0.000000                  0.000000           0.000000   \n",
       "25%                0.000000                  0.000000           0.000000   \n",
       "50%                0.000000                  0.000000           0.000000   \n",
       "75%                1.000000                  1.000000           0.000000   \n",
       "max                1.000000                  1.000000           1.000000   \n",
       "\n",
       "       Education_Graduate  Education_Not Specified  Education_Others  \\\n",
       "count         14731.00000             14731.000000      14731.000000   \n",
       "mean              0.25056                 0.239291          0.262168   \n",
       "std               0.43335                 0.426665          0.439829   \n",
       "min               0.00000                 0.000000          0.000000   \n",
       "25%               0.00000                 0.000000          0.000000   \n",
       "50%               0.00000                 0.000000          0.000000   \n",
       "75%               1.00000                 0.000000          1.000000   \n",
       "max               1.00000                 1.000000          1.000000   \n",
       "\n",
       "       Marital Status_Married  Marital Status_Other  Marital Status_Single  \n",
       "count            14731.000000          14731.000000           14731.000000  \n",
       "mean                 0.321092              0.344987               0.333922  \n",
       "std                  0.466912              0.475380               0.471628  \n",
       "min                  0.000000              0.000000               0.000000  \n",
       "25%                  0.000000              0.000000               0.000000  \n",
       "50%                  0.000000              0.000000               0.000000  \n",
       "75%                  1.000000              1.000000               1.000000  \n",
       "max                  1.000000              1.000000               1.000000  \n",
       "\n",
       "[8 rows x 41 columns]"
      ]
     },
     "execution_count": 12,
     "metadata": {},
     "output_type": "execute_result"
    }
   ],
   "source": [
    "X.describe()"
   ]
  },
  {
   "cell_type": "markdown",
   "id": "5fa8f049",
   "metadata": {
    "papermill": {
     "duration": 0.012586,
     "end_time": "2023-04-03T18:33:32.357998",
     "exception": false,
     "start_time": "2023-04-03T18:33:32.345412",
     "status": "completed"
    },
    "tags": []
   },
   "source": [
    "> Feature Scaling"
   ]
  },
  {
   "cell_type": "code",
   "execution_count": 13,
   "id": "2314153d",
   "metadata": {
    "execution": {
     "iopub.execute_input": "2023-04-03T18:33:32.385372Z",
     "iopub.status.busy": "2023-04-03T18:33:32.384946Z",
     "iopub.status.idle": "2023-04-03T18:33:32.390163Z",
     "shell.execute_reply": "2023-04-03T18:33:32.389033Z"
    },
    "papermill": {
     "duration": 0.021326,
     "end_time": "2023-04-03T18:33:32.392277",
     "exception": false,
     "start_time": "2023-04-03T18:33:32.370951",
     "status": "completed"
    },
    "tags": []
   },
   "outputs": [],
   "source": [
    "# from sklearn.preprocessing import StandardScaler\n",
    "# ss=StandardScaler()\n",
    "# X[num_var]=ss.fit_transform(X[num_var])"
   ]
  },
  {
   "cell_type": "code",
   "execution_count": 14,
   "id": "d0f88f09",
   "metadata": {
    "execution": {
     "iopub.execute_input": "2023-04-03T18:33:32.419390Z",
     "iopub.status.busy": "2023-04-03T18:33:32.418979Z",
     "iopub.status.idle": "2023-04-03T18:33:32.423534Z",
     "shell.execute_reply": "2023-04-03T18:33:32.422419Z"
    },
    "papermill": {
     "duration": 0.021085,
     "end_time": "2023-04-03T18:33:32.425985",
     "exception": false,
     "start_time": "2023-04-03T18:33:32.404900",
     "status": "completed"
    },
    "tags": []
   },
   "outputs": [],
   "source": [
    "# from sklearn.preprocessing import MinMaxScaler\n",
    "# mm=MinMaxScaler()\n",
    "# X[num_var]=mm.fit_transform(X[num_var])"
   ]
  },
  {
   "cell_type": "code",
   "execution_count": 15,
   "id": "cc631438",
   "metadata": {
    "execution": {
     "iopub.execute_input": "2023-04-03T18:33:32.454068Z",
     "iopub.status.busy": "2023-04-03T18:33:32.453659Z",
     "iopub.status.idle": "2023-04-03T18:33:32.458054Z",
     "shell.execute_reply": "2023-04-03T18:33:32.456994Z"
    },
    "papermill": {
     "duration": 0.021152,
     "end_time": "2023-04-03T18:33:32.460166",
     "exception": false,
     "start_time": "2023-04-03T18:33:32.439014",
     "status": "completed"
    },
    "tags": []
   },
   "outputs": [],
   "source": [
    "# from sklearn.preprocessing import PowerTransformer\n",
    "# pt=PowerTransformer()\n",
    "# X[num_var]=pt.fit_transform(X[num_var])"
   ]
  },
  {
   "cell_type": "code",
   "execution_count": 16,
   "id": "f9d5ca4f",
   "metadata": {
    "execution": {
     "iopub.execute_input": "2023-04-03T18:33:32.488357Z",
     "iopub.status.busy": "2023-04-03T18:33:32.487922Z",
     "iopub.status.idle": "2023-04-03T18:33:32.492062Z",
     "shell.execute_reply": "2023-04-03T18:33:32.491096Z"
    },
    "papermill": {
     "duration": 0.020271,
     "end_time": "2023-04-03T18:33:32.494097",
     "exception": false,
     "start_time": "2023-04-03T18:33:32.473826",
     "status": "completed"
    },
    "tags": []
   },
   "outputs": [],
   "source": [
    "# from sklearn.preprocessing import QuantileTransformer\n",
    "# qt=QuantileTransformer(output_distribution='normal')\n",
    "# X[num_var]=qt.fit_transform(X[num_var])"
   ]
  },
  {
   "cell_type": "markdown",
   "id": "a37a5adf",
   "metadata": {
    "papermill": {
     "duration": 0.012205,
     "end_time": "2023-04-03T18:33:32.519105",
     "exception": false,
     "start_time": "2023-04-03T18:33:32.506900",
     "status": "completed"
    },
    "tags": []
   },
   "source": [
    "*Train-Test splitting of Dataset*"
   ]
  },
  {
   "cell_type": "code",
   "execution_count": 17,
   "id": "4645456b",
   "metadata": {
    "execution": {
     "iopub.execute_input": "2023-04-03T18:33:32.545990Z",
     "iopub.status.busy": "2023-04-03T18:33:32.545309Z",
     "iopub.status.idle": "2023-04-03T18:33:32.549551Z",
     "shell.execute_reply": "2023-04-03T18:33:32.548760Z"
    },
    "papermill": {
     "duration": 0.019869,
     "end_time": "2023-04-03T18:33:32.551384",
     "exception": false,
     "start_time": "2023-04-03T18:33:32.531515",
     "status": "completed"
    },
    "tags": []
   },
   "outputs": [],
   "source": [
    "# from sklearn.model_selection import train_test_split\n",
    "# X_train,X_test,y_train,y_test=train_test_split(X,y,test_size=0.3,random_state=1)"
   ]
  },
  {
   "cell_type": "markdown",
   "id": "b407d446",
   "metadata": {
    "papermill": {
     "duration": 0.012226,
     "end_time": "2023-04-03T18:33:32.576111",
     "exception": false,
     "start_time": "2023-04-03T18:33:32.563885",
     "status": "completed"
    },
    "tags": []
   },
   "source": [
    "# **Applying variety of models**"
   ]
  },
  {
   "cell_type": "markdown",
   "id": "b06cec53",
   "metadata": {
    "papermill": {
     "duration": 0.012159,
     "end_time": "2023-04-03T18:33:32.600798",
     "exception": false,
     "start_time": "2023-04-03T18:33:32.588639",
     "status": "completed"
    },
    "tags": []
   },
   "source": [
    "* RandomForestClassifier"
   ]
  },
  {
   "cell_type": "code",
   "execution_count": 18,
   "id": "3c6d6f37",
   "metadata": {
    "execution": {
     "iopub.execute_input": "2023-04-03T18:33:32.627694Z",
     "iopub.status.busy": "2023-04-03T18:33:32.627305Z",
     "iopub.status.idle": "2023-04-03T18:33:32.631443Z",
     "shell.execute_reply": "2023-04-03T18:33:32.630567Z"
    },
    "papermill": {
     "duration": 0.020107,
     "end_time": "2023-04-03T18:33:32.633370",
     "exception": false,
     "start_time": "2023-04-03T18:33:32.613263",
     "status": "completed"
    },
    "tags": []
   },
   "outputs": [],
   "source": [
    "# from sklearn.ensemble import RandomForestClassifier\n",
    "# model=RandomForestClassifier(n_estimators=200,criterion=\"entropy\",max_features=\"sqrt\",random_state=42)\n",
    "# model.fit(X_train,y_train)"
   ]
  },
  {
   "cell_type": "markdown",
   "id": "e07ab91a",
   "metadata": {
    "papermill": {
     "duration": 0.012134,
     "end_time": "2023-04-03T18:33:32.658043",
     "exception": false,
     "start_time": "2023-04-03T18:33:32.645909",
     "status": "completed"
    },
    "tags": []
   },
   "source": [
    "* SMOTEEN"
   ]
  },
  {
   "cell_type": "code",
   "execution_count": 19,
   "id": "2a36428b",
   "metadata": {
    "execution": {
     "iopub.execute_input": "2023-04-03T18:33:32.685027Z",
     "iopub.status.busy": "2023-04-03T18:33:32.684255Z",
     "iopub.status.idle": "2023-04-03T18:33:32.688144Z",
     "shell.execute_reply": "2023-04-03T18:33:32.687375Z"
    },
    "papermill": {
     "duration": 0.019974,
     "end_time": "2023-04-03T18:33:32.690265",
     "exception": false,
     "start_time": "2023-04-03T18:33:32.670291",
     "status": "completed"
    },
    "tags": []
   },
   "outputs": [],
   "source": [
    "# from imblearn.combine import SMOTEENN\n",
    "# smote_enn = SMOTEENN(random_state=42)\n",
    "# X_smoteenn, y_smoteenn = smote_enn.fit_resample(X, y)\n"
   ]
  },
  {
   "cell_type": "markdown",
   "id": "b594f3e6",
   "metadata": {
    "papermill": {
     "duration": 0.012203,
     "end_time": "2023-04-03T18:33:32.715168",
     "exception": false,
     "start_time": "2023-04-03T18:33:32.702965",
     "status": "completed"
    },
    "tags": []
   },
   "source": [
    "* RandomOverSampler"
   ]
  },
  {
   "cell_type": "code",
   "execution_count": 20,
   "id": "5360a6f0",
   "metadata": {
    "execution": {
     "iopub.execute_input": "2023-04-03T18:33:32.742952Z",
     "iopub.status.busy": "2023-04-03T18:33:32.742205Z",
     "iopub.status.idle": "2023-04-03T18:33:32.746075Z",
     "shell.execute_reply": "2023-04-03T18:33:32.745296Z"
    },
    "papermill": {
     "duration": 0.019888,
     "end_time": "2023-04-03T18:33:32.748113",
     "exception": false,
     "start_time": "2023-04-03T18:33:32.728225",
     "status": "completed"
    },
    "tags": []
   },
   "outputs": [],
   "source": [
    "# from imblearn.over_sampling import RandomOverSampler\n",
    "\n",
    "# ros = RandomOverSampler(random_state=42)\n",
    "# X_ros, y_ros = ros.fit_resample(X,y)\n"
   ]
  },
  {
   "cell_type": "markdown",
   "id": "198f05dc",
   "metadata": {
    "papermill": {
     "duration": 0.012576,
     "end_time": "2023-04-03T18:33:32.773177",
     "exception": false,
     "start_time": "2023-04-03T18:33:32.760601",
     "status": "completed"
    },
    "tags": []
   },
   "source": [
    "* LogisticRegression"
   ]
  },
  {
   "cell_type": "code",
   "execution_count": 21,
   "id": "72a469e7",
   "metadata": {
    "execution": {
     "iopub.execute_input": "2023-04-03T18:33:32.800734Z",
     "iopub.status.busy": "2023-04-03T18:33:32.800005Z",
     "iopub.status.idle": "2023-04-03T18:33:32.804235Z",
     "shell.execute_reply": "2023-04-03T18:33:32.803444Z"
    },
    "papermill": {
     "duration": 0.020283,
     "end_time": "2023-04-03T18:33:32.806265",
     "exception": false,
     "start_time": "2023-04-03T18:33:32.785982",
     "status": "completed"
    },
    "tags": []
   },
   "outputs": [],
   "source": [
    "# from sklearn.linear_model import LogisticRegression\n",
    "\n",
    "# model= LogisticRegression(max_iter=10000,random_state=42)\n",
    "# model.fit(X_smoteenn,y_smoteenn)"
   ]
  },
  {
   "cell_type": "code",
   "execution_count": 22,
   "id": "104144e1",
   "metadata": {
    "execution": {
     "iopub.execute_input": "2023-04-03T18:33:32.833868Z",
     "iopub.status.busy": "2023-04-03T18:33:32.833190Z",
     "iopub.status.idle": "2023-04-03T18:33:32.837313Z",
     "shell.execute_reply": "2023-04-03T18:33:32.836181Z"
    },
    "papermill": {
     "duration": 0.020823,
     "end_time": "2023-04-03T18:33:32.839663",
     "exception": false,
     "start_time": "2023-04-03T18:33:32.818840",
     "status": "completed"
    },
    "tags": []
   },
   "outputs": [],
   "source": [
    "# from sklearn.linear_model import LogisticRegression\n",
    "\n",
    "# model= LogisticRegression(C=1, penalty='l1',solver='liblinear',max_iter=10000,random_state=42)\n",
    "# model.fit(X_smoteenn,y_smoteenn)"
   ]
  },
  {
   "cell_type": "markdown",
   "id": "63d5f37d",
   "metadata": {
    "papermill": {
     "duration": 0.012173,
     "end_time": "2023-04-03T18:33:32.864427",
     "exception": false,
     "start_time": "2023-04-03T18:33:32.852254",
     "status": "completed"
    },
    "tags": []
   },
   "source": [
    "* GradientBoostingClassifier"
   ]
  },
  {
   "cell_type": "code",
   "execution_count": 23,
   "id": "9edab9f4",
   "metadata": {
    "execution": {
     "iopub.execute_input": "2023-04-03T18:33:32.891406Z",
     "iopub.status.busy": "2023-04-03T18:33:32.890971Z",
     "iopub.status.idle": "2023-04-03T18:33:32.895745Z",
     "shell.execute_reply": "2023-04-03T18:33:32.894645Z"
    },
    "papermill": {
     "duration": 0.020882,
     "end_time": "2023-04-03T18:33:32.897733",
     "exception": false,
     "start_time": "2023-04-03T18:33:32.876851",
     "status": "completed"
    },
    "tags": []
   },
   "outputs": [],
   "source": [
    "# from sklearn.ensemble import GradientBoostingClassifier\n",
    "# model=GradientBoostingClassifier()\n",
    "# model.fit(X_train,y_train)"
   ]
  },
  {
   "cell_type": "markdown",
   "id": "5a9cddd0",
   "metadata": {
    "papermill": {
     "duration": 0.012143,
     "end_time": "2023-04-03T18:33:32.922152",
     "exception": false,
     "start_time": "2023-04-03T18:33:32.910009",
     "status": "completed"
    },
    "tags": []
   },
   "source": [
    "# ***The Chosen One***\n",
    "\n",
    "# HistGradentBoostingClassifier"
   ]
  },
  {
   "cell_type": "code",
   "execution_count": 24,
   "id": "7f6e38cb",
   "metadata": {
    "execution": {
     "iopub.execute_input": "2023-04-03T18:33:32.950273Z",
     "iopub.status.busy": "2023-04-03T18:33:32.948623Z",
     "iopub.status.idle": "2023-04-03T18:33:32.954344Z",
     "shell.execute_reply": "2023-04-03T18:33:32.953237Z"
    },
    "papermill": {
     "duration": 0.021809,
     "end_time": "2023-04-03T18:33:32.956642",
     "exception": false,
     "start_time": "2023-04-03T18:33:32.934833",
     "status": "completed"
    },
    "tags": []
   },
   "outputs": [],
   "source": [
    "# from sklearn.ensemble import HistGradientBoostingClassifier\n",
    "# model=HistGradientBoostingClassifier(random_state=42)\n",
    "# model.fit(X_train,y_train)"
   ]
  },
  {
   "cell_type": "markdown",
   "id": "828c392b",
   "metadata": {
    "papermill": {
     "duration": 0.012303,
     "end_time": "2023-04-03T18:33:32.981649",
     "exception": false,
     "start_time": "2023-04-03T18:33:32.969346",
     "status": "completed"
    },
    "tags": []
   },
   "source": [
    "> **Tuning Of Hyperparameters**"
   ]
  },
  {
   "cell_type": "code",
   "execution_count": 25,
   "id": "9d1a14b3",
   "metadata": {
    "execution": {
     "iopub.execute_input": "2023-04-03T18:33:33.008669Z",
     "iopub.status.busy": "2023-04-03T18:33:33.008258Z",
     "iopub.status.idle": "2023-04-03T18:33:33.013065Z",
     "shell.execute_reply": "2023-04-03T18:33:33.011714Z"
    },
    "papermill": {
     "duration": 0.020924,
     "end_time": "2023-04-03T18:33:33.015175",
     "exception": false,
     "start_time": "2023-04-03T18:33:32.994251",
     "status": "completed"
    },
    "tags": []
   },
   "outputs": [],
   "source": [
    "# from sklearn.ensemble import HistGradientBoostingClassifier\n",
    "# model = HistGradientBoostingClassifier(random_state=42)\n",
    "# param_grid = {\n",
    "#     'learning_rate': [0.1, 0.05, 0.01],\n",
    "#     'max_iter': [100, 200, 300],\n",
    "#     'max_depth': [3, 5, 7],\n",
    "#     'max_leaf_nodes': [15, 31, 63]\n",
    "# }\n"
   ]
  },
  {
   "cell_type": "code",
   "execution_count": 26,
   "id": "92f0dcfd",
   "metadata": {
    "execution": {
     "iopub.execute_input": "2023-04-03T18:33:33.041939Z",
     "iopub.status.busy": "2023-04-03T18:33:33.041537Z",
     "iopub.status.idle": "2023-04-03T18:33:33.046088Z",
     "shell.execute_reply": "2023-04-03T18:33:33.044987Z"
    },
    "papermill": {
     "duration": 0.020702,
     "end_time": "2023-04-03T18:33:33.048424",
     "exception": false,
     "start_time": "2023-04-03T18:33:33.027722",
     "status": "completed"
    },
    "tags": []
   },
   "outputs": [],
   "source": [
    "# from sklearn.model_selection import GridSearchCV\n",
    "# from sklearn.metrics import f1_score\n",
    "# grid_search = GridSearchCV(model, param_grid, cv=5, scoring='f1')\n",
    "# grid_search.fit(X_train, y_train)\n"
   ]
  },
  {
   "cell_type": "code",
   "execution_count": 27,
   "id": "1b31f1a3",
   "metadata": {
    "execution": {
     "iopub.execute_input": "2023-04-03T18:33:33.075755Z",
     "iopub.status.busy": "2023-04-03T18:33:33.075296Z",
     "iopub.status.idle": "2023-04-03T18:33:33.080508Z",
     "shell.execute_reply": "2023-04-03T18:33:33.079358Z"
    },
    "papermill": {
     "duration": 0.021831,
     "end_time": "2023-04-03T18:33:33.083074",
     "exception": false,
     "start_time": "2023-04-03T18:33:33.061243",
     "status": "completed"
    },
    "tags": []
   },
   "outputs": [],
   "source": [
    "# print(grid_search.best_estimator_)\n",
    "# best_model = grid_search.best_estimator_\n",
    "# best_model.fit(X_train, y_train)"
   ]
  },
  {
   "cell_type": "code",
   "execution_count": 28,
   "id": "fd582b32",
   "metadata": {
    "execution": {
     "iopub.execute_input": "2023-04-03T18:33:33.110936Z",
     "iopub.status.busy": "2023-04-03T18:33:33.109893Z",
     "iopub.status.idle": "2023-04-03T18:33:33.115668Z",
     "shell.execute_reply": "2023-04-03T18:33:33.114909Z"
    },
    "papermill": {
     "duration": 0.022008,
     "end_time": "2023-04-03T18:33:33.117758",
     "exception": false,
     "start_time": "2023-04-03T18:33:33.095750",
     "status": "completed"
    },
    "tags": []
   },
   "outputs": [],
   "source": [
    "# y_pred = best_model.predict(X_test)\n"
   ]
  },
  {
   "cell_type": "code",
   "execution_count": 29,
   "id": "6bb71123",
   "metadata": {
    "execution": {
     "iopub.execute_input": "2023-04-03T18:33:33.144515Z",
     "iopub.status.busy": "2023-04-03T18:33:33.144119Z",
     "iopub.status.idle": "2023-04-03T18:33:33.148831Z",
     "shell.execute_reply": "2023-04-03T18:33:33.147580Z"
    },
    "papermill": {
     "duration": 0.02071,
     "end_time": "2023-04-03T18:33:33.151038",
     "exception": false,
     "start_time": "2023-04-03T18:33:33.130328",
     "status": "completed"
    },
    "tags": []
   },
   "outputs": [],
   "source": [
    "# f1_score(y_test,y_pred)"
   ]
  },
  {
   "cell_type": "code",
   "execution_count": 30,
   "id": "7b5c2039",
   "metadata": {
    "execution": {
     "iopub.execute_input": "2023-04-03T18:33:33.178349Z",
     "iopub.status.busy": "2023-04-03T18:33:33.177956Z",
     "iopub.status.idle": "2023-04-03T18:33:33.182411Z",
     "shell.execute_reply": "2023-04-03T18:33:33.181321Z"
    },
    "papermill": {
     "duration": 0.021094,
     "end_time": "2023-04-03T18:33:33.184735",
     "exception": false,
     "start_time": "2023-04-03T18:33:33.163641",
     "status": "completed"
    },
    "tags": []
   },
   "outputs": [],
   "source": [
    "# from sklearn.model_selection import cross_val_score\n",
    "# cross_val_score(best_model,X_train,y_train,scoring='f1')"
   ]
  },
  {
   "cell_type": "code",
   "execution_count": 31,
   "id": "4b3cacb1",
   "metadata": {
    "execution": {
     "iopub.execute_input": "2023-04-03T18:33:33.211745Z",
     "iopub.status.busy": "2023-04-03T18:33:33.211349Z",
     "iopub.status.idle": "2023-04-03T18:33:33.216290Z",
     "shell.execute_reply": "2023-04-03T18:33:33.215268Z"
    },
    "papermill": {
     "duration": 0.02108,
     "end_time": "2023-04-03T18:33:33.218567",
     "exception": false,
     "start_time": "2023-04-03T18:33:33.197487",
     "status": "completed"
    },
    "tags": []
   },
   "outputs": [],
   "source": [
    "# from sklearn.ensemble import HistGradientBoostingClassifier\n",
    "# model=HistGradientBoostingClassifier(learning_rate=0.1,max_iter=100,max_depth=3,random_state=42)\n",
    "# model.fit(X_train,y_train)"
   ]
  },
  {
   "cell_type": "code",
   "execution_count": 32,
   "id": "0ad8772e",
   "metadata": {
    "execution": {
     "iopub.execute_input": "2023-04-03T18:33:33.245218Z",
     "iopub.status.busy": "2023-04-03T18:33:33.244829Z",
     "iopub.status.idle": "2023-04-03T18:33:33.249742Z",
     "shell.execute_reply": "2023-04-03T18:33:33.248659Z"
    },
    "papermill": {
     "duration": 0.020783,
     "end_time": "2023-04-03T18:33:33.251948",
     "exception": false,
     "start_time": "2023-04-03T18:33:33.231165",
     "status": "completed"
    },
    "tags": []
   },
   "outputs": [],
   "source": [
    "# from sklearn.linear_model import SGDClassifier\n",
    "# model = SGDClassifier(alpha=0.0001, loss='modified_huber', max_iter=3000, penalty='l2')\n",
    "# model.fit(X,y)\n"
   ]
  },
  {
   "cell_type": "markdown",
   "id": "87d75494",
   "metadata": {
    "papermill": {
     "duration": 0.012211,
     "end_time": "2023-04-03T18:33:33.277423",
     "exception": false,
     "start_time": "2023-04-03T18:33:33.265212",
     "status": "completed"
    },
    "tags": []
   },
   "source": [
    "# Final/Best Fit Model"
   ]
  },
  {
   "cell_type": "code",
   "execution_count": 33,
   "id": "caac5953",
   "metadata": {
    "execution": {
     "iopub.execute_input": "2023-04-03T18:33:33.305543Z",
     "iopub.status.busy": "2023-04-03T18:33:33.304665Z",
     "iopub.status.idle": "2023-04-03T18:33:33.309659Z",
     "shell.execute_reply": "2023-04-03T18:33:33.308880Z"
    },
    "papermill": {
     "duration": 0.021771,
     "end_time": "2023-04-03T18:33:33.311903",
     "exception": false,
     "start_time": "2023-04-03T18:33:33.290132",
     "status": "completed"
    },
    "tags": []
   },
   "outputs": [],
   "source": [
    "# from sklearn.ensemble import HistGradientBoostingClassifier\n",
    "# #model=HistGradientBoostingClassifier(learning_rate=0.1,max_iter=100,max_depth=3,random_state=1111)\n",
    "# model=HistGradientBoostingClassifier(learning_rate=0.009,max_leaf_nodes=5,max_iter=1000,max_depth=3,random_state=11101)\n",
    "# model.fit(X,y)"
   ]
  },
  {
   "cell_type": "code",
   "execution_count": 34,
   "id": "86fa366d",
   "metadata": {
    "execution": {
     "iopub.execute_input": "2023-04-03T18:33:33.338957Z",
     "iopub.status.busy": "2023-04-03T18:33:33.338523Z",
     "iopub.status.idle": "2023-04-03T18:33:33.576455Z",
     "shell.execute_reply": "2023-04-03T18:33:33.575576Z"
    },
    "papermill": {
     "duration": 0.254837,
     "end_time": "2023-04-03T18:33:33.579203",
     "exception": false,
     "start_time": "2023-04-03T18:33:33.324366",
     "status": "completed"
    },
    "tags": []
   },
   "outputs": [
    {
     "data": {
      "text/plain": [
       "HistGradientBoostingClassifier(learning_rate=0.058, max_depth=3, max_iter=30,\n",
       "                               random_state=1101)"
      ]
     },
     "execution_count": 34,
     "metadata": {},
     "output_type": "execute_result"
    }
   ],
   "source": [
    "from sklearn.ensemble import HistGradientBoostingClassifier\n",
    "model=HistGradientBoostingClassifier(learning_rate=0.058,max_iter=30,max_depth=3,random_state=1101)\n",
    "model.fit(X,y)"
   ]
  },
  {
   "cell_type": "markdown",
   "id": "111e5356",
   "metadata": {
    "papermill": {
     "duration": 0.012351,
     "end_time": "2023-04-03T18:33:33.605320",
     "exception": false,
     "start_time": "2023-04-03T18:33:33.592969",
     "status": "completed"
    },
    "tags": []
   },
   "source": [
    "> Prediction on actual test dataset"
   ]
  },
  {
   "cell_type": "code",
   "execution_count": 35,
   "id": "ffe2ddb9",
   "metadata": {
    "execution": {
     "iopub.execute_input": "2023-04-03T18:33:33.632844Z",
     "iopub.status.busy": "2023-04-03T18:33:33.632387Z",
     "iopub.status.idle": "2023-04-03T18:33:33.653952Z",
     "shell.execute_reply": "2023-04-03T18:33:33.652907Z"
    },
    "papermill": {
     "duration": 0.03842,
     "end_time": "2023-04-03T18:33:33.656354",
     "exception": false,
     "start_time": "2023-04-03T18:33:33.617934",
     "status": "completed"
    },
    "tags": []
   },
   "outputs": [
    {
     "name": "stdout",
     "output_type": "stream",
     "text": [
      "(array([False,  True]), array([5689,  910]))\n"
     ]
    }
   ],
   "source": [
    "pred=model.predict(test)\n",
    "type(pred)\n",
    "\n",
    "pred=pred.astype(bool)\n",
    "pred\n",
    "print(np.unique(pred, return_counts=True))"
   ]
  },
  {
   "cell_type": "code",
   "execution_count": 36,
   "id": "779203b6",
   "metadata": {
    "execution": {
     "iopub.execute_input": "2023-04-03T18:33:33.685601Z",
     "iopub.status.busy": "2023-04-03T18:33:33.685182Z",
     "iopub.status.idle": "2023-04-03T18:33:33.692137Z",
     "shell.execute_reply": "2023-04-03T18:33:33.691366Z"
    },
    "papermill": {
     "duration": 0.022988,
     "end_time": "2023-04-03T18:33:33.694093",
     "exception": false,
     "start_time": "2023-04-03T18:33:33.671105",
     "status": "completed"
    },
    "tags": []
   },
   "outputs": [
    {
     "data": {
      "text/plain": [
       "(array([False,  True]), array([9065, 5666]))"
      ]
     },
     "execution_count": 36,
     "metadata": {},
     "output_type": "execute_result"
    }
   ],
   "source": [
    "np.unique(y, return_counts=True)"
   ]
  },
  {
   "cell_type": "markdown",
   "id": "687e18a8",
   "metadata": {
    "papermill": {
     "duration": 0.012394,
     "end_time": "2023-04-03T18:33:33.719311",
     "exception": false,
     "start_time": "2023-04-03T18:33:33.706917",
     "status": "completed"
    },
    "tags": []
   },
   "source": [
    "> *Submission to CSV*"
   ]
  },
  {
   "cell_type": "code",
   "execution_count": 37,
   "id": "02cd86bd",
   "metadata": {
    "execution": {
     "iopub.execute_input": "2023-04-03T18:33:33.746671Z",
     "iopub.status.busy": "2023-04-03T18:33:33.746035Z",
     "iopub.status.idle": "2023-04-03T18:33:33.778646Z",
     "shell.execute_reply": "2023-04-03T18:33:33.777810Z"
    },
    "papermill": {
     "duration": 0.048854,
     "end_time": "2023-04-03T18:33:33.780886",
     "exception": false,
     "start_time": "2023-04-03T18:33:33.732032",
     "status": "completed"
    },
    "tags": []
   },
   "outputs": [
    {
     "data": {
      "text/html": [
       "<div>\n",
       "<style scoped>\n",
       "    .dataframe tbody tr th:only-of-type {\n",
       "        vertical-align: middle;\n",
       "    }\n",
       "\n",
       "    .dataframe tbody tr th {\n",
       "        vertical-align: top;\n",
       "    }\n",
       "\n",
       "    .dataframe thead th {\n",
       "        text-align: right;\n",
       "    }\n",
       "</style>\n",
       "<table border=\"1\" class=\"dataframe\">\n",
       "  <thead>\n",
       "    <tr style=\"text-align: right;\">\n",
       "      <th></th>\n",
       "      <th>id</th>\n",
       "      <th>Made_Purchase</th>\n",
       "    </tr>\n",
       "  </thead>\n",
       "  <tbody>\n",
       "    <tr>\n",
       "      <th>0</th>\n",
       "      <td>0</td>\n",
       "      <td>False</td>\n",
       "    </tr>\n",
       "    <tr>\n",
       "      <th>1</th>\n",
       "      <td>1</td>\n",
       "      <td>False</td>\n",
       "    </tr>\n",
       "    <tr>\n",
       "      <th>2</th>\n",
       "      <td>2</td>\n",
       "      <td>False</td>\n",
       "    </tr>\n",
       "    <tr>\n",
       "      <th>3</th>\n",
       "      <td>3</td>\n",
       "      <td>False</td>\n",
       "    </tr>\n",
       "    <tr>\n",
       "      <th>4</th>\n",
       "      <td>4</td>\n",
       "      <td>False</td>\n",
       "    </tr>\n",
       "    <tr>\n",
       "      <th>...</th>\n",
       "      <td>...</td>\n",
       "      <td>...</td>\n",
       "    </tr>\n",
       "    <tr>\n",
       "      <th>6594</th>\n",
       "      <td>6594</td>\n",
       "      <td>False</td>\n",
       "    </tr>\n",
       "    <tr>\n",
       "      <th>6595</th>\n",
       "      <td>6595</td>\n",
       "      <td>False</td>\n",
       "    </tr>\n",
       "    <tr>\n",
       "      <th>6596</th>\n",
       "      <td>6596</td>\n",
       "      <td>False</td>\n",
       "    </tr>\n",
       "    <tr>\n",
       "      <th>6597</th>\n",
       "      <td>6597</td>\n",
       "      <td>False</td>\n",
       "    </tr>\n",
       "    <tr>\n",
       "      <th>6598</th>\n",
       "      <td>6598</td>\n",
       "      <td>False</td>\n",
       "    </tr>\n",
       "  </tbody>\n",
       "</table>\n",
       "<p>6599 rows × 2 columns</p>\n",
       "</div>"
      ],
      "text/plain": [
       "        id  Made_Purchase\n",
       "0        0          False\n",
       "1        1          False\n",
       "2        2          False\n",
       "3        3          False\n",
       "4        4          False\n",
       "...    ...            ...\n",
       "6594  6594          False\n",
       "6595  6595          False\n",
       "6596  6596          False\n",
       "6597  6597          False\n",
       "6598  6598          False\n",
       "\n",
       "[6599 rows x 2 columns]"
      ]
     },
     "execution_count": 37,
     "metadata": {},
     "output_type": "execute_result"
    }
   ],
   "source": [
    "submission=pd.DataFrame(columns=['id', 'Made_Purchase'])\n",
    "submission['id']=[i for i in range(len(pred))]\n",
    "submission[\"Made_Purchase\"]=[i for i in pred]\n",
    "submission.to_csv('submission.csv',index=False)\n",
    "submission\n",
    "#submission.describe()"
   ]
  },
  {
   "cell_type": "code",
   "execution_count": null,
   "id": "5437afa6",
   "metadata": {
    "papermill": {
     "duration": 0.012804,
     "end_time": "2023-04-03T18:33:33.806867",
     "exception": false,
     "start_time": "2023-04-03T18:33:33.794063",
     "status": "completed"
    },
    "tags": []
   },
   "outputs": [],
   "source": []
  }
 ],
 "metadata": {
  "kernelspec": {
   "display_name": "Python 3",
   "language": "python",
   "name": "python3"
  },
  "language_info": {
   "codemirror_mode": {
    "name": "ipython",
    "version": 3
   },
   "file_extension": ".py",
   "mimetype": "text/x-python",
   "name": "python",
   "nbconvert_exporter": "python",
   "pygments_lexer": "ipython3",
   "version": "3.7.12"
  },
  "papermill": {
   "default_parameters": {},
   "duration": 13.60515,
   "end_time": "2023-04-03T18:33:34.540888",
   "environment_variables": {},
   "exception": null,
   "input_path": "__notebook__.ipynb",
   "output_path": "__notebook__.ipynb",
   "parameters": {},
   "start_time": "2023-04-03T18:33:20.935738",
   "version": "2.3.4"
  }
 },
 "nbformat": 4,
 "nbformat_minor": 5
}
